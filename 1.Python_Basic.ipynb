{
 "cells": [
  {
   "cell_type": "markdown",
   "id": "2f304cb3-030d-4a7f-860a-63a5295d9d76",
   "metadata": {},
   "source": [
    "\n"
   ]
  },
  {
   "cell_type": "markdown",
   "id": "996b6c9a-b07d-44d3-adae-64e520a4a9c0",
   "metadata": {},
   "source": [
    "__1. Correct Indentation and Strings__"
   ]
  },
  {
   "cell_type": "code",
   "execution_count": 2,
   "id": "a26f6bc4-04e2-407f-8ef2-73641086658e",
   "metadata": {},
   "outputs": [
    {
     "name": "stdout",
     "output_type": "stream",
     "text": [
      "What is your name?40\n"
     ]
    }
   ],
   "source": [
    "your_name = input('What is your name?')"
   ]
  },
  {
   "cell_type": "code",
   "execution_count": 3,
   "id": "36547d32-57db-4b9e-aea3-2fbc3acb5d07",
   "metadata": {},
   "outputs": [
    {
     "name": "stdout",
     "output_type": "stream",
     "text": [
      "40\n"
     ]
    }
   ],
   "source": [
    "print(your_name)"
   ]
  },
  {
   "cell_type": "code",
   "execution_count": 4,
   "id": "2ead31d9-6ae9-4271-bfbc-643d5e662cca",
   "metadata": {},
   "outputs": [
    {
     "name": "stdout",
     "output_type": "stream",
     "text": [
      "Enter grade or -1 to end : 14\n",
      "Enter grade or -1 to end : 20\n",
      "Enter grade or -1 to end : 45\n",
      "Enter grade or -1 to end : 4555\n",
      "Enter grade or -1 to end : -1\n",
      "4634\n",
      "4\n"
     ]
    }
   ],
   "source": [
    "total = 0\n",
    "counter = 0\n",
    "grade = int(input('Enter grade or -1 to end : '))\n",
    "\n",
    "while grade != -1:\n",
    "    total+=grade\n",
    "    counter+=1\n",
    "    grade = int(input('Enter grade or -1 to end : '))\n",
    "    \n",
    "print(total)\n",
    "print(counter)"
   ]
  },
  {
   "cell_type": "code",
   "execution_count": 1,
   "id": "5797abfe-b27c-49a2-b422-2e9b9abd4bf4",
   "metadata": {},
   "outputs": [
    {
     "name": "stdout",
     "output_type": "stream",
     "text": [
      "Hello GuyS\n"
     ]
    }
   ],
   "source": [
    "print('Hello GuyS')"
   ]
  },
  {
   "cell_type": "code",
   "execution_count": 2,
   "id": "4b9507cc",
   "metadata": {},
   "outputs": [
    {
     "name": "stdout",
     "output_type": "stream",
     "text": [
      "5\n",
      "6\n",
      "7\n"
     ]
    }
   ],
   "source": [
    "for i in range(5,8):\n",
    "    print(i)"
   ]
  },
  {
   "cell_type": "code",
   "execution_count": null,
   "id": "13557b5e",
   "metadata": {},
   "outputs": [],
   "source": []
  }
 ],
 "metadata": {
  "kernelspec": {
   "display_name": "Python 3 (ipykernel)",
   "language": "python",
   "name": "python3"
  },
  "language_info": {
   "codemirror_mode": {
    "name": "ipython",
    "version": 3
   },
   "file_extension": ".py",
   "mimetype": "text/x-python",
   "name": "python",
   "nbconvert_exporter": "python",
   "pygments_lexer": "ipython3",
   "version": "3.9.7"
  }
 },
 "nbformat": 4,
 "nbformat_minor": 5
}
