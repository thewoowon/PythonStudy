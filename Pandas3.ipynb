{
 "cells": [
  {
   "cell_type": "code",
   "execution_count": 6,
   "id": "f1a23879-5a30-4d18-8552-48a00e091a3f",
   "metadata": {},
   "outputs": [
    {
     "name": "stdout",
     "output_type": "stream",
     "text": [
      "[0.80513653 0.18711969 0.55015273]\n",
      "[0.28333189 0.63761335 0.24968665]\n",
      "[0.63555935 0.10412387 0.9985889 ]\n",
      "\n",
      "\n",
      "[array([0.80513653, 0.18711969, 0.55015273]), array([0.28333189, 0.63761335, 0.24968665]), array([0.63555935, 0.10412387, 0.9985889 ])]\n"
     ]
    },
    {
     "data": {
      "text/plain": [
       "[Text(0, 0, 'A'), Text(1, 0, 'B'), Text(2, 0, 'C')]"
      ]
     },
     "execution_count": 6,
     "metadata": {},
     "output_type": "execute_result"
    },
    {
     "data": {
      "image/png": "[encoded data removed]",
      "text/plain": [
       "<Figure size 432x288 with 1 Axes>"
      ]
     },
     "metadata": {
      "needs_background": "light"
     },
     "output_type": "display_data"
    }
   ],
   "source": [
    "import pandas as pd\n",
    "import numpy as np\n",
    "import matplotlib.pyplot as plt\n",
    "\n",
    "\n",
    "x = np.random.rand(3)\n",
    "y = np.random.rand(3)\n",
    "z = np.random.rand(3)\n",
    "\n",
    "print(x)\n",
    "print(y)\n",
    "print(z)\n",
    "print('\\n')\n",
    "data = [x,y,z]\n",
    "\n",
    "print(data)\n",
    "\n",
    "fig,ax = plt.subplots()\n",
    "x_ax = np.arange(3)\n",
    "\n",
    "for i in x_ax:\n",
    "    ax.bar(x_ax,data[i],\n",
    "    bottom=np.sum(data[:i],axis=0))\n",
    "    \n",
    "ax.set_xticks(x_ax)\n",
    "ax.set_xticklabels([\"A\",\"B\",\"C\"])\n"
   ]
  },
  {
   "cell_type": "code",
   "execution_count": null,
   "id": "daa7628a-1d7c-4e2f-bef1-65b143d4be11",
   "metadata": {},
   "outputs": [],
   "source": []
  }
 ],
 "metadata": {
  "kernelspec": {
   "display_name": "Python 3 (ipykernel)",
   "language": "python",
   "name": "python3"
  },
  "language_info": {
   "codemirror_mode": {
    "name": "ipython",
    "version": 3
   },
   "file_extension": ".py",
   "mimetype": "text/x-python",
   "name": "python",
   "nbconvert_exporter": "python",
   "pygments_lexer": "ipython3",
   "version": "3.9.7"
  }
 },
 "nbformat": 4,
 "nbformat_minor": 5
}
