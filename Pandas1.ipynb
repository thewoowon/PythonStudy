{
 "cells": [
  {
   "cell_type": "code",
   "execution_count": 11,
   "id": "0fe597e2-c8c3-461e-bc40-1da32ae3068c",
   "metadata": {},
   "outputs": [
    {
     "name": "stdout",
     "output_type": "stream",
     "text": [
      "  key  data1  data2\n",
      "0   A      1      1\n",
      "1   B      2      1\n",
      "2   C      3      3\n",
      "3   A      1      1\n",
      "4   B      2      3\n",
      "5   C      3      3\n",
      "    data1            data2           \n",
      "      min median max   min median max\n",
      "key                                  \n",
      "A       1    1.0   1     1    1.0   1\n",
      "B       2    2.0   2     1    2.0   3\n",
      "C       3    3.0   3     3    3.0   3\n",
      "     data1  data2\n",
      "key              \n",
      "A        1      2\n",
      "B        2      4\n",
      "C        3      6\n"
     ]
    }
   ],
   "source": [
    "import numpy as np\n",
    "import pandas as pd\n",
    "\n",
    "df = pd.DataFrame({'key' : ['A','B','C','A','B','C'],'data1':[1,2,3,1,2,3],'data2':np.random.randint(0,6,6)})\n",
    "print(df)\n",
    "\n",
    "df1 = df.groupby('key')\n",
    "#print(df1)\n",
    "\n",
    "df2 = df.groupby('key').sum()\n",
    "#print(df2)\n",
    "\n",
    "df3 = df.groupby(['key','data1']).sum()\n",
    "#print(df3)\n",
    "\n",
    "df4 = df.groupby('key').aggregate(['min',np.median,max])\n",
    "print(df4)\n",
    "\n",
    "df5 = df.groupby('key').aggregate({'data1':'min','data2':np.sum})\n",
    "print(df5)\n"
   ]
  },
  {
   "cell_type": "code",
   "execution_count": 12,
   "id": "307847b6-32fb-4891-a442-97119347d3cd",
   "metadata": {},
   "outputs": [
    {
     "name": "stdout",
     "output_type": "stream",
     "text": [
      "<pandas.core.groupby.generic.DataFrameGroupBy object at 0x7fe420a23190>\n"
     ]
    }
   ],
   "source": [
    "print(df1)"
   ]
  },
  {
   "cell_type": "code",
   "execution_count": 16,
   "id": "48e7d34f-bb05-40b9-a2e1-56de5447f10a",
   "metadata": {},
   "outputs": [
    {
     "name": "stdout",
     "output_type": "stream",
     "text": [
      "     data1  data2\n",
      "key              \n",
      "A      1.0    1.0\n",
      "B      2.0    2.0\n",
      "C      3.0    3.0\n",
      "Empty DataFrame\n",
      "Columns: [data1, data2]\n",
      "Index: []\n"
     ]
    }
   ],
   "source": [
    "def filter_by_mean(x):\n",
    "    return x['data2'].mean() > 3\n",
    "\n",
    "\n",
    "df6 = df.groupby('key').mean()\n",
    "print(df6)\n",
    "\n",
    "df7 = df.groupby('key').filter(filter_by_mean)\n",
    "print(df7)"
   ]
  },
  {
   "cell_type": "code",
   "execution_count": 17,
   "id": "fa7c3ec1-e26c-405d-8309-429de4669dab",
   "metadata": {},
   "outputs": [
    {
     "name": "stdout",
     "output_type": "stream",
     "text": [
      "     data1  data2\n",
      "key              \n",
      "A        0      0\n",
      "B        0      2\n",
      "C        0      0\n"
     ]
    }
   ],
   "source": [
    "\n",
    "\n",
    "df8 = df.groupby('key').apply(lambda x: x.max() - x.min())\n",
    "print(df8)"
   ]
  },
  {
   "cell_type": "code",
   "execution_count": null,
   "id": "bbadda4b-9619-4e05-a3cd-50dc888f4353",
   "metadata": {},
   "outputs": [],
   "source": []
  }
 ],
 "metadata": {
  "kernelspec": {
   "display_name": "Python 3 (ipykernel)",
   "language": "python",
   "name": "python3"
  },
  "language_info": {
   "codemirror_mode": {
    "name": "ipython",
    "version": 3
   },
   "file_extension": ".py",
   "mimetype": "text/x-python",
   "name": "python",
   "nbconvert_exporter": "python",
   "pygments_lexer": "ipython3",
   "version": "3.9.7"
  }
 },
 "nbformat": 4,
 "nbformat_minor": 5
}
