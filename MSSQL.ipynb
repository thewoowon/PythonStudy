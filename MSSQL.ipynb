{
 "cells": [
  {
   "cell_type": "code",
   "execution_count": 29,
   "id": "62468e36-14bb-409a-b7b7-74c2354e94b9",
   "metadata": {},
   "outputs": [
    {
     "name": "stdout",
     "output_type": "stream",
     "text": [
      "                       0     2   3        4   \\\n",
      "0    C0120180724000001283  C100  21  1154062   \n",
      "1    C0120180724000013200  C100  22  1186059   \n",
      "2    C0120200721000000005  A100  31  1214166   \n",
      "3    C0120200924000000002  A100  31  1214166   \n",
      "4    C0120200928000000034  A100  30  1273535   \n",
      "..                    ...   ...  ..      ...   \n",
      "299  C0120220107000000014  C600  30  1220641   \n",
      "300  C0120220107000000017  C600  24  1214981   \n",
      "301  C0120220107000000020  C600  24  1223604   \n",
      "302  C0120220110000000003  A100  23  1230740   \n",
      "303  M0120200814100000613  A200  41  1115527   \n",
      "\n",
      "                                       5  6           14  \n",
      "0                  AVXF 1X5SQ(207/0.180A)  0     qmslscw  \n",
      "1                  LS-2690SR 0.70TX6MM BK  0     qmslscw  \n",
      "2                     HC-KTACIR/AW 43/185  1     qmslscv  \n",
      "3                     HC-KTACIR/AW 43/185  2     qmslscv  \n",
      "4             132KV CLEYE-SW(17) 1X2500SQ  0     qmslscv  \n",
      "..                                    ... ..         ...  \n",
      "299            220KV CAE-TWW(23) 1X1000SQ  0  lshqtest01  \n",
      "300           0.6/1KV (HF) DIBS(C) 2X50SQ  0    qmssolva  \n",
      "301    0.6/1KV (HF) F-DIS 2X1.5SQ+1X1.5SQ  0    qmssolva  \n",
      "302    0.6/1KV F-FR-8(830℃/120MIN) 1X95SQ  0    qmssolva  \n",
      "303  LT-DJBGEXX/BRN B(A1)4XXX(06T2.00)-세경  0    qmssolva  \n",
      "\n",
      "[304 rows x 7 columns]\n"
     ]
    }
   ],
   "source": [
    "import pymssql\n",
    "import numpy as np\n",
    "import pandas as pd\n",
    "import matplotlib.pyplot as plt\n",
    "\n",
    "conn = pymssql.connect(server='121.78.112.141', user='solvatech', password='solva17$$', database='LSCQMS_LNG')\n",
    "cursor = conn.cursor()\n",
    "cursor.execute(\"SELECT * fROM TBL_PQC_BASEDOC_LSC\")\n",
    "row = cursor.fetchone()\n",
    "array = []\n",
    "while row:\n",
    "    array.append(row)\n",
    "    row = cursor.fetchone()\n",
    "conn.close()    \n",
    "    \n",
    "    \n",
    "df = pd.DataFrame(array)\n",
    "dropColumns = df.drop([df.columns[1],df.columns[7],df.columns[8],df.columns[9],df.columns[10],df.columns[11],df.columns[12],df.columns[13]],axis=1)\n",
    "print(dropColumns)\n",
    "\n",
    "\n",
    "\n"
   ]
  },
  {
   "cell_type": "code",
   "execution_count": null,
   "id": "525fb3c9-60c5-4cdd-83e2-16aa3c478cfa",
   "metadata": {},
   "outputs": [],
   "source": []
  },
  {
   "cell_type": "code",
   "execution_count": null,
   "id": "f9f1e057-63e5-4f3b-b423-c9cb1bf51230",
   "metadata": {},
   "outputs": [],
   "source": []
  },
  {
   "cell_type": "code",
   "execution_count": null,
   "id": "a964c06e-2f24-4c3e-86c7-b637f5b0e718",
   "metadata": {},
   "outputs": [],
   "source": []
  }
 ],
 "metadata": {
  "kernelspec": {
   "display_name": "Python 3 (ipykernel)",
   "language": "python",
   "name": "python3"
  },
  "language_info": {
   "codemirror_mode": {
    "name": "ipython",
    "version": 3
   },
   "file_extension": ".py",
   "mimetype": "text/x-python",
   "name": "python",
   "nbconvert_exporter": "python",
   "pygments_lexer": "ipython3",
   "version": "3.9.7"
  }
 },
 "nbformat": 4,
 "nbformat_minor": 5
}
